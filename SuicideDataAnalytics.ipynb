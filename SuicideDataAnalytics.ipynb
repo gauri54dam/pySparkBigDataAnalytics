{
  "nbformat": 4,
  "nbformat_minor": 0,
  "metadata": {
    "colab": {
      "name": "SuicideDataAnalytics.ipynb",
      "provenance": [],
      "collapsed_sections": []
    },
    "kernelspec": {
      "name": "python3",
      "display_name": "Python 3"
    },
    "language_info": {
      "name": "python"
    }
  },
  "cells": [
    {
      "cell_type": "code",
      "execution_count": 33,
      "metadata": {
        "colab": {
          "resources": {
            "http://localhost:8080/nbextensions/google.colab/files.js": {
              "data": "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",
              "ok": true,
              "headers": [
                [
                  "content-type",
                  "application/javascript"
                ]
              ],
              "status": 200,
              "status_text": ""
            }
          },
          "base_uri": "https://localhost:8080/",
          "height": 40
        },
        "id": "-cGghscNSZoS",
        "outputId": "d978ad9b-f0ca-445a-f8a4-10e46363c15c"
      },
      "outputs": [
        {
          "output_type": "display_data",
          "data": {
            "text/html": [
              "\n",
              "     <input type=\"file\" id=\"files-65a88a88-ff85-47e8-a864-3bf41c9f5f98\" name=\"files[]\" multiple disabled\n",
              "        style=\"border:none\" />\n",
              "     <output id=\"result-65a88a88-ff85-47e8-a864-3bf41c9f5f98\">\n",
              "      Upload widget is only available when the cell has been executed in the\n",
              "      current browser session. Please rerun this cell to enable.\n",
              "      </output>\n",
              "      <script src=\"/nbextensions/google.colab/files.js\"></script> "
            ],
            "text/plain": [
              "<IPython.core.display.HTML object>"
            ]
          },
          "metadata": {}
        }
      ],
      "source": [
        "from google.colab import files\n",
        "\n",
        "uploaded = files.upload()"
      ]
    },
    {
      "cell_type": "code",
      "source": [
        "import pandas as pd\n",
        "import matplotlib.pyplot as plt"
      ],
      "metadata": {
        "id": "VbhgM_0rY0yx"
      },
      "execution_count": 170,
      "outputs": []
    },
    {
      "cell_type": "markdown",
      "source": [
        "# **Import Input Data**"
      ],
      "metadata": {
        "id": "U1YPk_NEijOq"
      }
    },
    {
      "cell_type": "code",
      "source": [
        "df = pd.read_csv(\"/content/Suicides.csv\")\n",
        "df = df[df[\"Type_code\"]==\"Causes\"]\n",
        "#df= df[df[\"Gender\"]==\"Female\"]\n",
        "df.groupby('Type')['Total'].count()"
      ],
      "metadata": {
        "colab": {
          "base_uri": "https://localhost:8080/"
        },
        "id": "BGIdc97pYsmD",
        "outputId": "9ead99de-af44-4b2e-e61e-926b6cc97ee9"
      },
      "execution_count": 171,
      "outputs": [
        {
          "output_type": "execute_result",
          "data": {
            "text/plain": [
              "Type\n",
              "Bankruptcy or Sudden change in Economic           3850\n",
              "Bankruptcy or Sudden change in Economic Status     350\n",
              "Cancellation/Non-Settlement of Marriage           4200\n",
              "Cancer                                            4200\n",
              "Causes Not known                                  4200\n",
              "Death of Dear Person                              4200\n",
              "Divorce                                           4200\n",
              "Dowry Dispute                                     4200\n",
              "Drug Abuse/Addiction                              4200\n",
              "Failure in Examination                            4200\n",
              "Fall in Social Reputation                         4200\n",
              "Family Problems                                   4200\n",
              "Ideological Causes/Hero Worshipping               4200\n",
              "Illegitimate Pregnancy                            4200\n",
              "Illness (Aids/STD)                                4200\n",
              "Insanity/Mental Illness                           4200\n",
              "Love Affairs                                      4200\n",
              "Not having Children (Barrenness/Impotency          350\n",
              "Not having Children(Barrenness/Impotency          3850\n",
              "Other Causes (Please Specity)                     4200\n",
              "Other Prolonged Illness                           4200\n",
              "Paralysis                                         4200\n",
              "Physical Abuse (Rape/Incest Etc.)                 4200\n",
              "Poverty                                           4200\n",
              "Professional/Career Problem                       4200\n",
              "Property Dispute                                  4200\n",
              "Suspected/Illicit Relation                        4200\n",
              "Unemployment                                      4200\n",
              "Name: Total, dtype: int64"
            ]
          },
          "metadata": {},
          "execution_count": 171
        }
      ]
    },
    {
      "cell_type": "markdown",
      "source": [
        "# **Setting up PySpark in Google Colab**"
      ],
      "metadata": {
        "id": "wc6pezD-bj4J"
      }
    },
    {
      "cell_type": "code",
      "source": [
        "!apt-get install openjdk-8-jdk-headless -qq > /dev/null\n",
        "!wget -q http://archive.apache.org/dist/spark/spark-3.1.1/spark-3.1.1-bin-hadoop3.2.tgz\n",
        "!tar xf spark-3.1.1-bin-hadoop3.2.tgz\n",
        "!pip install -q findspark"
      ],
      "metadata": {
        "id": "KZUCztjfbhUe"
      },
      "execution_count": 172,
      "outputs": []
    },
    {
      "cell_type": "code",
      "source": [
        "import os\n",
        "os.environ[\"JAVA_HOME\"] = \"/usr/lib/jvm/java-8-openjdk-amd64\"\n",
        "os.environ[\"SPARK_HOME\"] = \"/content/spark-3.1.1-bin-hadoop3.2\""
      ],
      "metadata": {
        "id": "pMBKSg1mcoUj"
      },
      "execution_count": 173,
      "outputs": []
    },
    {
      "cell_type": "code",
      "source": [
        "!ls"
      ],
      "metadata": {
        "colab": {
          "base_uri": "https://localhost:8080/"
        },
        "id": "jtOOCNhngSF4",
        "outputId": "36f833cd-7ada-4fe5-99a3-af5a6981eea7"
      },
      "execution_count": 5,
      "outputs": [
        {
          "output_type": "stream",
          "name": "stdout",
          "text": [
            "drive  sample_data  spark-3.1.1-bin-hadoop3.2  spark-3.1.1-bin-hadoop3.2.tgz\n"
          ]
        }
      ]
    },
    {
      "cell_type": "code",
      "source": [
        "import findspark\n",
        "findspark.init()\n",
        "from pyspark.sql import SparkSession\n",
        "spark = SparkSession.builder.master(\"local[*]\").getOrCreate()\n",
        "spark.conf.set(\"spark.sql.repl.eagerEval.enabled\", True) # Property used to format output tables better\n",
        "spark"
      ],
      "metadata": {
        "colab": {
          "base_uri": "https://localhost:8080/",
          "height": 218
        },
        "id": "Ko8fsNXMctCB",
        "outputId": "8018ad5d-6aed-4869-ba70-cfdd79d2cfa5"
      },
      "execution_count": 174,
      "outputs": [
        {
          "output_type": "execute_result",
          "data": {
            "text/html": [
              "\n",
              "            <div>\n",
              "                <p><b>SparkSession - in-memory</b></p>\n",
              "                \n",
              "        <div>\n",
              "            <p><b>SparkContext</b></p>\n",
              "\n",
              "            <p><a href=\"http://22f575d5495d:4040\">Spark UI</a></p>\n",
              "\n",
              "            <dl>\n",
              "              <dt>Version</dt>\n",
              "                <dd><code>v3.1.1</code></dd>\n",
              "              <dt>Master</dt>\n",
              "                <dd><code>local[*]</code></dd>\n",
              "              <dt>AppName</dt>\n",
              "                <dd><code>pyspark-shell</code></dd>\n",
              "            </dl>\n",
              "        </div>\n",
              "        \n",
              "            </div>\n",
              "        "
            ],
            "text/plain": [
              "<pyspark.sql.session.SparkSession at 0x7f8892d71f90>"
            ]
          },
          "metadata": {},
          "execution_count": 174
        }
      ]
    },
    {
      "cell_type": "code",
      "source": [
        "spark_df = spark.read.csv(\"Suicides.csv\", header =True, inferSchema=True)\n"
      ],
      "metadata": {
        "id": "dmop2iU8qjWd"
      },
      "execution_count": 175,
      "outputs": []
    },
    {
      "cell_type": "code",
      "source": [
        "spark_df.printSchema()"
      ],
      "metadata": {
        "colab": {
          "base_uri": "https://localhost:8080/"
        },
        "id": "EzM4PLzXthJF",
        "outputId": "b1b81844-1928-4dfd-cd32-9b6d96747d79"
      },
      "execution_count": 176,
      "outputs": [
        {
          "output_type": "stream",
          "name": "stdout",
          "text": [
            "root\n",
            " |-- State: string (nullable = true)\n",
            " |-- Year: integer (nullable = true)\n",
            " |-- Type_code: string (nullable = true)\n",
            " |-- Type: string (nullable = true)\n",
            " |-- Gender: string (nullable = true)\n",
            " |-- Age_group: string (nullable = true)\n",
            " |-- Total: integer (nullable = true)\n",
            "\n"
          ]
        }
      ]
    },
    {
      "cell_type": "code",
      "source": [
        "spark_df.limit(5)"
      ],
      "metadata": {
        "colab": {
          "base_uri": "https://localhost:8080/",
          "height": 170
        },
        "id": "OvTei6oxtoM3",
        "outputId": "5ccde72a-f205-4064-a0ec-1e001388a324"
      },
      "execution_count": 177,
      "outputs": [
        {
          "output_type": "execute_result",
          "data": {
            "text/html": [
              "<table border='1'>\n",
              "<tr><th>State</th><th>Year</th><th>Type_code</th><th>Type</th><th>Gender</th><th>Age_group</th><th>Total</th></tr>\n",
              "<tr><td>A &amp; N Islands</td><td>2001</td><td>Causes</td><td>Illness (Aids/STD)</td><td>Female</td><td>0-14</td><td>0</td></tr>\n",
              "<tr><td>A &amp; N Islands</td><td>2001</td><td>Causes</td><td>Bankruptcy or Sud...</td><td>Female</td><td>0-14</td><td>0</td></tr>\n",
              "<tr><td>A &amp; N Islands</td><td>2001</td><td>Causes</td><td>Cancellation/Non-...</td><td>Female</td><td>0-14</td><td>0</td></tr>\n",
              "<tr><td>A &amp; N Islands</td><td>2001</td><td>Causes</td><td>Physical Abuse (R...</td><td>Female</td><td>0-14</td><td>0</td></tr>\n",
              "<tr><td>A &amp; N Islands</td><td>2001</td><td>Causes</td><td>Dowry Dispute</td><td>Female</td><td>0-14</td><td>0</td></tr>\n",
              "</table>\n"
            ],
            "text/plain": [
              "+-------------+----+---------+--------------------+------+---------+-----+\n",
              "|        State|Year|Type_code|                Type|Gender|Age_group|Total|\n",
              "+-------------+----+---------+--------------------+------+---------+-----+\n",
              "|A & N Islands|2001|   Causes|  Illness (Aids/STD)|Female|     0-14|    0|\n",
              "|A & N Islands|2001|   Causes|Bankruptcy or Sud...|Female|     0-14|    0|\n",
              "|A & N Islands|2001|   Causes|Cancellation/Non-...|Female|     0-14|    0|\n",
              "|A & N Islands|2001|   Causes|Physical Abuse (R...|Female|     0-14|    0|\n",
              "|A & N Islands|2001|   Causes|       Dowry Dispute|Female|     0-14|    0|\n",
              "+-------------+----+---------+--------------------+------+---------+-----+"
            ]
          },
          "metadata": {},
          "execution_count": 177
        }
      ]
    },
    {
      "cell_type": "code",
      "source": [
        "\n",
        "spark_df.createOrReplaceTempView(\"suicide\")\n"
      ],
      "metadata": {
        "id": "Lior-1EHuqPe"
      },
      "execution_count": 178,
      "outputs": []
    },
    {
      "cell_type": "markdown",
      "source": [
        "# **1)Most common suicide cause among females in India over the entire period 2001-2012**\n"
      ],
      "metadata": {
        "id": "i61wANPxuBZy"
      }
    },
    {
      "cell_type": "code",
      "source": [
        "spark.sql(\"select Type, count(Total) as count from suicide where Gender = 'Female' group by Type order by count desc\")\n"
      ],
      "metadata": {
        "colab": {
          "base_uri": "https://localhost:8080/",
          "height": 557
        },
        "id": "VWG7Bp5juffE",
        "outputId": "fa73d2b6-04d1-498d-8722-35bb174f27d9"
      },
      "execution_count": 186,
      "outputs": [
        {
          "output_type": "execute_result",
          "data": {
            "text/html": [
              "<table border='1'>\n",
              "<tr><th>Type</th><th>count</th></tr>\n",
              "<tr><td>Others (Please Sp...</td><td>3512</td></tr>\n",
              "<tr><td>Paralysis</td><td>2100</td></tr>\n",
              "<tr><td>By Self Inflictio...</td><td>2100</td></tr>\n",
              "<tr><td>Fall in Social Re...</td><td>2100</td></tr>\n",
              "<tr><td>Self-employed (Bu...</td><td>2100</td></tr>\n",
              "<tr><td>By touching elect...</td><td>2100</td></tr>\n",
              "<tr><td>By Overdose of sl...</td><td>2100</td></tr>\n",
              "<tr><td>Farming/Agricultu...</td><td>2100</td></tr>\n",
              "<tr><td>Property Dispute</td><td>2100</td></tr>\n",
              "<tr><td>Other Prolonged I...</td><td>2100</td></tr>\n",
              "<tr><td>Family Problems</td><td>2100</td></tr>\n",
              "<tr><td>Other Causes (Ple...</td><td>2100</td></tr>\n",
              "<tr><td>Divorce</td><td>2100</td></tr>\n",
              "<tr><td>By Fire-Arms</td><td>2100</td></tr>\n",
              "<tr><td>Illegitimate Preg...</td><td>2100</td></tr>\n",
              "<tr><td>By coming under r...</td><td>2100</td></tr>\n",
              "<tr><td>By Consuming Othe...</td><td>2100</td></tr>\n",
              "<tr><td>By Jumping from (...</td><td>2100</td></tr>\n",
              "<tr><td>Student</td><td>2100</td></tr>\n",
              "<tr><td>Failure in Examin...</td><td>2100</td></tr>\n",
              "</table>\n",
              "only showing top 20 rows\n"
            ],
            "text/plain": [
              "+--------------------+-----+\n",
              "|                Type|count|\n",
              "+--------------------+-----+\n",
              "|Others (Please Sp...| 3512|\n",
              "|           Paralysis| 2100|\n",
              "|By Self Inflictio...| 2100|\n",
              "|Fall in Social Re...| 2100|\n",
              "|Self-employed (Bu...| 2100|\n",
              "|    Property Dispute| 2100|\n",
              "|By coming under r...| 2100|\n",
              "|By Overdose of sl...| 2100|\n",
              "|By touching elect...| 2100|\n",
              "|Other Prolonged I...| 2100|\n",
              "|     Family Problems| 2100|\n",
              "|Other Causes (Ple...| 2100|\n",
              "|             Divorce| 2100|\n",
              "|Illegitimate Preg...| 2100|\n",
              "|        By Fire-Arms| 2100|\n",
              "|Farming/Agricultu...| 2100|\n",
              "|By Consuming Othe...| 2100|\n",
              "|By Jumping from (...| 2100|\n",
              "|             Student| 2100|\n",
              "|Failure in Examin...| 2100|\n",
              "+--------------------+-----+\n",
              "only showing top 20 rows"
            ]
          },
          "metadata": {},
          "execution_count": 186
        }
      ]
    },
    {
      "cell_type": "markdown",
      "source": [
        "# **2)State wise most common cause among males over the entire period**"
      ],
      "metadata": {
        "id": "emyXe6Jow3J8"
      }
    },
    {
      "cell_type": "code",
      "source": [
        "spark.sql(\"select State, Type, count(Total) as count from suicide where Gender = 'Male' group by State, Type order by count desc\")"
      ],
      "metadata": {
        "colab": {
          "base_uri": "https://localhost:8080/",
          "height": 557
        },
        "id": "Pb2d1OaWw19X",
        "outputId": "e4619f33-a65c-47be-b718-c45b4f873cb3"
      },
      "execution_count": 190,
      "outputs": [
        {
          "output_type": "execute_result",
          "data": {
            "text/html": [
              "<table border='1'>\n",
              "<tr><th>State</th><th>Type</th><th>count</th></tr>\n",
              "<tr><td>Maharashtra</td><td>Others (Please Sp...</td><td>120</td></tr>\n",
              "<tr><td>Andhra Pradesh</td><td>Others (Please Sp...</td><td>120</td></tr>\n",
              "<tr><td>Chhattisgarh</td><td>Others (Please Sp...</td><td>120</td></tr>\n",
              "<tr><td>Karnataka</td><td>Others (Please Sp...</td><td>120</td></tr>\n",
              "<tr><td>Bihar</td><td>Others (Please Sp...</td><td>120</td></tr>\n",
              "<tr><td>Haryana</td><td>Others (Please Sp...</td><td>120</td></tr>\n",
              "<tr><td>Gujarat</td><td>Others (Please Sp...</td><td>120</td></tr>\n",
              "<tr><td>Madhya Pradesh</td><td>Others (Please Sp...</td><td>120</td></tr>\n",
              "<tr><td>Rajasthan</td><td>Others (Please Sp...</td><td>120</td></tr>\n",
              "<tr><td>Jharkhand</td><td>Others (Please Sp...</td><td>119</td></tr>\n",
              "<tr><td>Odisha</td><td>Others (Please Sp...</td><td>119</td></tr>\n",
              "<tr><td>Uttar Pradesh</td><td>Others (Please Sp...</td><td>118</td></tr>\n",
              "<tr><td>Assam</td><td>Others (Please Sp...</td><td>118</td></tr>\n",
              "<tr><td>Delhi (Ut)</td><td>Others (Please Sp...</td><td>118</td></tr>\n",
              "<tr><td>Kerala</td><td>Others (Please Sp...</td><td>118</td></tr>\n",
              "<tr><td>Tripura</td><td>Others (Please Sp...</td><td>116</td></tr>\n",
              "<tr><td>Punjab</td><td>Others (Please Sp...</td><td>116</td></tr>\n",
              "<tr><td>Tamil Nadu</td><td>Others (Please Sp...</td><td>116</td></tr>\n",
              "<tr><td>West Bengal</td><td>Others (Please Sp...</td><td>115</td></tr>\n",
              "<tr><td>Himachal Pradesh</td><td>Others (Please Sp...</td><td>113</td></tr>\n",
              "</table>\n",
              "only showing top 20 rows\n"
            ],
            "text/plain": [
              "+----------------+--------------------+-----+\n",
              "|           State|                Type|count|\n",
              "+----------------+--------------------+-----+\n",
              "|         Gujarat|Others (Please Sp...|  120|\n",
              "|  Madhya Pradesh|Others (Please Sp...|  120|\n",
              "|    Chhattisgarh|Others (Please Sp...|  120|\n",
              "|  Andhra Pradesh|Others (Please Sp...|  120|\n",
              "|     Maharashtra|Others (Please Sp...|  120|\n",
              "|           Bihar|Others (Please Sp...|  120|\n",
              "|       Karnataka|Others (Please Sp...|  120|\n",
              "|         Haryana|Others (Please Sp...|  120|\n",
              "|       Rajasthan|Others (Please Sp...|  120|\n",
              "|       Jharkhand|Others (Please Sp...|  119|\n",
              "|          Odisha|Others (Please Sp...|  119|\n",
              "|      Delhi (Ut)|Others (Please Sp...|  118|\n",
              "|          Kerala|Others (Please Sp...|  118|\n",
              "|           Assam|Others (Please Sp...|  118|\n",
              "|   Uttar Pradesh|Others (Please Sp...|  118|\n",
              "|         Tripura|Others (Please Sp...|  116|\n",
              "|          Punjab|Others (Please Sp...|  116|\n",
              "|      Tamil Nadu|Others (Please Sp...|  116|\n",
              "|     West Bengal|Others (Please Sp...|  115|\n",
              "|Himachal Pradesh|Others (Please Sp...|  113|\n",
              "+----------------+--------------------+-----+\n",
              "only showing top 20 rows"
            ]
          },
          "metadata": {},
          "execution_count": 190
        }
      ]
    },
    {
      "cell_type": "markdown",
      "source": [
        "# **3)Age group wise most common cause among males and females**"
      ],
      "metadata": {
        "id": "UzPA3TnZxsJ3"
      }
    },
    {
      "cell_type": "code",
      "source": [
        "spark.sql(\"select Age_group, Type, Gender, count(Total) as count from suicide group by Age_group, Type, Gender order by count desc\")"
      ],
      "metadata": {
        "colab": {
          "base_uri": "https://localhost:8080/",
          "height": 557
        },
        "id": "W4nPaB98xxjj",
        "outputId": "0ea536a7-33de-4c96-fcf6-996be3cd9423"
      },
      "execution_count": 98,
      "outputs": [
        {
          "output_type": "execute_result",
          "data": {
            "text/html": [
              "<table border='1'>\n",
              "<tr><th>Age_group</th><th>Type</th><th>Gender</th><th>count</th></tr>\n",
              "<tr><td>30-44</td><td>Others (Please Sp...</td><td>Male</td><td>788</td></tr>\n",
              "<tr><td>15-29</td><td>Others (Please Sp...</td><td>Male</td><td>786</td></tr>\n",
              "<tr><td>45-59</td><td>Others (Please Sp...</td><td>Male</td><td>772</td></tr>\n",
              "<tr><td>15-29</td><td>Others (Please Sp...</td><td>Female</td><td>757</td></tr>\n",
              "<tr><td>60+</td><td>Others (Please Sp...</td><td>Male</td><td>731</td></tr>\n",
              "<tr><td>30-44</td><td>Others (Please Sp...</td><td>Female</td><td>725</td></tr>\n",
              "<tr><td>45-59</td><td>Others (Please Sp...</td><td>Female</td><td>694</td></tr>\n",
              "<tr><td>0-14</td><td>Others (Please Sp...</td><td>Male</td><td>674</td></tr>\n",
              "<tr><td>0-14</td><td>Others (Please Sp...</td><td>Female</td><td>673</td></tr>\n",
              "<tr><td>60+</td><td>Others (Please Sp...</td><td>Female</td><td>663</td></tr>\n",
              "<tr><td>0-100+</td><td>Divorcee</td><td>Male</td><td>456</td></tr>\n",
              "<tr><td>0-100+</td><td>Divorcee</td><td>Female</td><td>456</td></tr>\n",
              "<tr><td>0-100+</td><td>No Education</td><td>Male</td><td>456</td></tr>\n",
              "<tr><td>0-100+</td><td>Graduate</td><td>Male</td><td>456</td></tr>\n",
              "<tr><td>0-100+</td><td>Hr. Secondary/Int...</td><td>Male</td><td>456</td></tr>\n",
              "<tr><td>0-100+</td><td>Seperated</td><td>Female</td><td>456</td></tr>\n",
              "<tr><td>0-100+</td><td>Primary</td><td>Female</td><td>456</td></tr>\n",
              "<tr><td>0-100+</td><td>Matriculate/Secon...</td><td>Female</td><td>456</td></tr>\n",
              "<tr><td>0-100+</td><td>Hr. Secondary/Int...</td><td>Female</td><td>456</td></tr>\n",
              "<tr><td>0-100+</td><td>No Education</td><td>Female</td><td>456</td></tr>\n",
              "</table>\n",
              "only showing top 20 rows\n"
            ],
            "text/plain": [
              "+---------+--------------------+------+-----+\n",
              "|Age_group|                Type|Gender|count|\n",
              "+---------+--------------------+------+-----+\n",
              "|    30-44|Others (Please Sp...|  Male|  788|\n",
              "|    15-29|Others (Please Sp...|  Male|  786|\n",
              "|    45-59|Others (Please Sp...|  Male|  772|\n",
              "|    15-29|Others (Please Sp...|Female|  757|\n",
              "|      60+|Others (Please Sp...|  Male|  731|\n",
              "|    30-44|Others (Please Sp...|Female|  725|\n",
              "|    45-59|Others (Please Sp...|Female|  694|\n",
              "|     0-14|Others (Please Sp...|  Male|  674|\n",
              "|     0-14|Others (Please Sp...|Female|  673|\n",
              "|      60+|Others (Please Sp...|Female|  663|\n",
              "|   0-100+|             Primary|  Male|  456|\n",
              "|   0-100+|            Divorcee|  Male|  456|\n",
              "|   0-100+|        No Education|  Male|  456|\n",
              "|   0-100+|            Graduate|  Male|  456|\n",
              "|   0-100+|Hr. Secondary/Int...|Female|  456|\n",
              "|   0-100+|        No Education|Female|  456|\n",
              "|   0-100+|             Primary|Female|  456|\n",
              "|   0-100+|           Seperated|  Male|  456|\n",
              "|   0-100+|Matriculate/Secon...|Female|  456|\n",
              "|   0-100+|Post Graduate and...|Female|  456|\n",
              "+---------+--------------------+------+-----+\n",
              "only showing top 20 rows"
            ]
          },
          "metadata": {},
          "execution_count": 98
        }
      ]
    },
    {
      "cell_type": "markdown",
      "source": [
        "# **4)Total number of suicides per year per state**"
      ],
      "metadata": {
        "id": "oog5_Z8FxynO"
      }
    },
    {
      "cell_type": "code",
      "source": [
        "spark.sql(\"select Year, State, count(Total) from suicide group by Year, State order by Year, State\")"
      ],
      "metadata": {
        "colab": {
          "base_uri": "https://localhost:8080/",
          "height": 557
        },
        "id": "8CFBukHaGO5e",
        "outputId": "c1dc72dc-f49e-425d-fe19-3c32b25c7d75"
      },
      "execution_count": 99,
      "outputs": [
        {
          "output_type": "execute_result",
          "data": {
            "text/html": [
              "<table border='1'>\n",
              "<tr><th>Year</th><th>State</th><th>count(Total)</th></tr>\n",
              "<tr><td>2001</td><td>A &amp; N Islands</td><td>562</td></tr>\n",
              "<tr><td>2001</td><td>Andhra Pradesh</td><td>566</td></tr>\n",
              "<tr><td>2001</td><td>Arunachal Pradesh</td><td>556</td></tr>\n",
              "<tr><td>2001</td><td>Assam</td><td>565</td></tr>\n",
              "<tr><td>2001</td><td>Bihar</td><td>566</td></tr>\n",
              "<tr><td>2001</td><td>Chandigarh</td><td>562</td></tr>\n",
              "<tr><td>2001</td><td>Chhattisgarh</td><td>565</td></tr>\n",
              "<tr><td>2001</td><td>D &amp; N Haveli</td><td>559</td></tr>\n",
              "<tr><td>2001</td><td>Daman &amp; Diu</td><td>557</td></tr>\n",
              "<tr><td>2001</td><td>Delhi (Ut)</td><td>566</td></tr>\n",
              "<tr><td>2001</td><td>Goa</td><td>563</td></tr>\n",
              "<tr><td>2001</td><td>Gujarat</td><td>566</td></tr>\n",
              "<tr><td>2001</td><td>Haryana</td><td>565</td></tr>\n",
              "<tr><td>2001</td><td>Himachal Pradesh</td><td>566</td></tr>\n",
              "<tr><td>2001</td><td>Jammu &amp; Kashmir</td><td>564</td></tr>\n",
              "<tr><td>2001</td><td>Jharkhand</td><td>565</td></tr>\n",
              "<tr><td>2001</td><td>Karnataka</td><td>566</td></tr>\n",
              "<tr><td>2001</td><td>Kerala</td><td>566</td></tr>\n",
              "<tr><td>2001</td><td>Lakshadweep</td><td>556</td></tr>\n",
              "<tr><td>2001</td><td>Madhya Pradesh</td><td>566</td></tr>\n",
              "</table>\n",
              "only showing top 20 rows\n"
            ],
            "text/plain": [
              "+----+-----------------+------------+\n",
              "|Year|            State|count(Total)|\n",
              "+----+-----------------+------------+\n",
              "|2001|    A & N Islands|         562|\n",
              "|2001|   Andhra Pradesh|         566|\n",
              "|2001|Arunachal Pradesh|         556|\n",
              "|2001|            Assam|         565|\n",
              "|2001|            Bihar|         566|\n",
              "|2001|       Chandigarh|         562|\n",
              "|2001|     Chhattisgarh|         565|\n",
              "|2001|     D & N Haveli|         559|\n",
              "|2001|      Daman & Diu|         557|\n",
              "|2001|       Delhi (Ut)|         566|\n",
              "|2001|              Goa|         563|\n",
              "|2001|          Gujarat|         566|\n",
              "|2001|          Haryana|         565|\n",
              "|2001| Himachal Pradesh|         566|\n",
              "|2001|  Jammu & Kashmir|         564|\n",
              "|2001|        Jharkhand|         565|\n",
              "|2001|        Karnataka|         566|\n",
              "|2001|           Kerala|         566|\n",
              "|2001|      Lakshadweep|         556|\n",
              "|2001|   Madhya Pradesh|         566|\n",
              "+----+-----------------+------------+\n",
              "only showing top 20 rows"
            ]
          },
          "metadata": {},
          "execution_count": 99
        }
      ]
    },
    {
      "cell_type": "markdown",
      "source": [
        "# **5)Male suicide rate vs female suicide rate**"
      ],
      "metadata": {
        "id": "jBZoO1uXLURY"
      }
    },
    {
      "cell_type": "code",
      "source": [
        "df = spark.sql(\"select * from suicide\")\n",
        "female = df[df['Gender']==\"Female\"].count()\n",
        "male = df[df['Gender'] == \"Male\"].count()\n",
        "labels=[\"Female\", \"Male\"]\n",
        "\n",
        "plt.title(\"Female Suicide rate vs Male Suicide rate\")\n",
        "plt.pie([female, male], labels= labels, colors = ['y','g'],autopct='%0.2f %%')\n",
        "plt.show()"
      ],
      "metadata": {
        "colab": {
          "base_uri": "https://localhost:8080/",
          "height": 264
        },
        "id": "KEPiwlAyLZmY",
        "outputId": "652e03b4-e766-42fe-ff77-14111ba01298"
      },
      "execution_count": 143,
      "outputs": [
        {
          "output_type": "display_data",
          "data": {
            "image/png": "[encoded data removed]",
            "text/plain": [
              "<Figure size 432x288 with 1 Axes>"
            ]
          },
          "metadata": {}
        }
      ]
    },
    {
      "cell_type": "markdown",
      "source": [
        "# **6)Which state has more suicides over the entire period**"
      ],
      "metadata": {
        "id": "rbGKxqVcMO1C"
      }
    },
    {
      "cell_type": "code",
      "source": [
        "spark.sql(\"select State, count(Total) from suicide group by State order by count(Total) desc\")"
      ],
      "metadata": {
        "colab": {
          "base_uri": "https://localhost:8080/",
          "height": 557
        },
        "id": "FYg59Md6MXJ9",
        "outputId": "a3ebeaae-b778-454f-de54-23bc336aceb3"
      },
      "execution_count": 101,
      "outputs": [
        {
          "output_type": "execute_result",
          "data": {
            "text/html": [
              "<table border='1'>\n",
              "<tr><th>State</th><th>count(Total)</th></tr>\n",
              "<tr><td>Madhya Pradesh</td><td>6792</td></tr>\n",
              "<tr><td>Karnataka</td><td>6792</td></tr>\n",
              "<tr><td>Maharashtra</td><td>6792</td></tr>\n",
              "<tr><td>Rajasthan</td><td>6791</td></tr>\n",
              "<tr><td>Andhra Pradesh</td><td>6791</td></tr>\n",
              "<tr><td>Odisha</td><td>6791</td></tr>\n",
              "<tr><td>Haryana</td><td>6790</td></tr>\n",
              "<tr><td>Bihar</td><td>6790</td></tr>\n",
              "<tr><td>Chhattisgarh</td><td>6790</td></tr>\n",
              "<tr><td>Kerala</td><td>6788</td></tr>\n",
              "<tr><td>Uttar Pradesh</td><td>6787</td></tr>\n",
              "<tr><td>Tamil Nadu</td><td>6786</td></tr>\n",
              "<tr><td>Gujarat</td><td>6786</td></tr>\n",
              "<tr><td>Assam</td><td>6786</td></tr>\n",
              "<tr><td>Jharkhand</td><td>6785</td></tr>\n",
              "<tr><td>Tripura</td><td>6782</td></tr>\n",
              "<tr><td>Delhi (Ut)</td><td>6782</td></tr>\n",
              "<tr><td>West Bengal</td><td>6780</td></tr>\n",
              "<tr><td>Punjab</td><td>6779</td></tr>\n",
              "<tr><td>Himachal Pradesh</td><td>6774</td></tr>\n",
              "</table>\n",
              "only showing top 20 rows\n"
            ],
            "text/plain": [
              "+----------------+------------+\n",
              "|           State|count(Total)|\n",
              "+----------------+------------+\n",
              "|       Karnataka|        6792|\n",
              "|  Madhya Pradesh|        6792|\n",
              "|     Maharashtra|        6792|\n",
              "|          Odisha|        6791|\n",
              "|  Andhra Pradesh|        6791|\n",
              "|       Rajasthan|        6791|\n",
              "|           Bihar|        6790|\n",
              "|    Chhattisgarh|        6790|\n",
              "|         Haryana|        6790|\n",
              "|          Kerala|        6788|\n",
              "|   Uttar Pradesh|        6787|\n",
              "|         Gujarat|        6786|\n",
              "|           Assam|        6786|\n",
              "|      Tamil Nadu|        6786|\n",
              "|       Jharkhand|        6785|\n",
              "|         Tripura|        6782|\n",
              "|      Delhi (Ut)|        6782|\n",
              "|     West Bengal|        6780|\n",
              "|          Punjab|        6779|\n",
              "|Himachal Pradesh|        6774|\n",
              "+----------------+------------+\n",
              "only showing top 20 rows"
            ]
          },
          "metadata": {},
          "execution_count": 101
        }
      ]
    },
    {
      "cell_type": "markdown",
      "source": [
        "# **7)state wise most common cause**\n"
      ],
      "metadata": {
        "id": "fcP0p7EYSDS9"
      }
    },
    {
      "cell_type": "code",
      "source": [
        "spark.sql(\"select State, type, count(Total) from suicide group by State, type order by count(Total) desc\")"
      ],
      "metadata": {
        "colab": {
          "base_uri": "https://localhost:8080/",
          "height": 557
        },
        "id": "X6u-n5j5SkcS",
        "outputId": "0055613f-74f8-4d00-819e-cdd600510bbc"
      },
      "execution_count": 103,
      "outputs": [
        {
          "output_type": "execute_result",
          "data": {
            "text/html": [
              "<table border='1'>\n",
              "<tr><th>State</th><th>type</th><th>count(Total)</th></tr>\n",
              "<tr><td>Maharashtra</td><td>Others (Please Sp...</td><td>240</td></tr>\n",
              "<tr><td>Madhya Pradesh</td><td>Others (Please Sp...</td><td>240</td></tr>\n",
              "<tr><td>Karnataka</td><td>Others (Please Sp...</td><td>240</td></tr>\n",
              "<tr><td>Andhra Pradesh</td><td>Others (Please Sp...</td><td>239</td></tr>\n",
              "<tr><td>Odisha</td><td>Others (Please Sp...</td><td>239</td></tr>\n",
              "<tr><td>Rajasthan</td><td>Others (Please Sp...</td><td>239</td></tr>\n",
              "<tr><td>Chhattisgarh</td><td>Others (Please Sp...</td><td>238</td></tr>\n",
              "<tr><td>Bihar</td><td>Others (Please Sp...</td><td>238</td></tr>\n",
              "<tr><td>Haryana</td><td>Others (Please Sp...</td><td>238</td></tr>\n",
              "<tr><td>Kerala</td><td>Others (Please Sp...</td><td>236</td></tr>\n",
              "<tr><td>Uttar Pradesh</td><td>Others (Please Sp...</td><td>235</td></tr>\n",
              "<tr><td>Assam</td><td>Others (Please Sp...</td><td>234</td></tr>\n",
              "<tr><td>Gujarat</td><td>Others (Please Sp...</td><td>234</td></tr>\n",
              "<tr><td>Tamil Nadu</td><td>Others (Please Sp...</td><td>234</td></tr>\n",
              "<tr><td>Jharkhand</td><td>Others (Please Sp...</td><td>233</td></tr>\n",
              "<tr><td>Tripura</td><td>Others (Please Sp...</td><td>230</td></tr>\n",
              "<tr><td>Delhi (Ut)</td><td>Others (Please Sp...</td><td>230</td></tr>\n",
              "<tr><td>West Bengal</td><td>Others (Please Sp...</td><td>228</td></tr>\n",
              "<tr><td>Punjab</td><td>Others (Please Sp...</td><td>227</td></tr>\n",
              "<tr><td>Himachal Pradesh</td><td>Others (Please Sp...</td><td>222</td></tr>\n",
              "</table>\n",
              "only showing top 20 rows\n"
            ],
            "text/plain": [
              "+----------------+--------------------+------------+\n",
              "|           State|                type|count(Total)|\n",
              "+----------------+--------------------+------------+\n",
              "|     Maharashtra|Others (Please Sp...|         240|\n",
              "|       Karnataka|Others (Please Sp...|         240|\n",
              "|  Madhya Pradesh|Others (Please Sp...|         240|\n",
              "|  Andhra Pradesh|Others (Please Sp...|         239|\n",
              "|          Odisha|Others (Please Sp...|         239|\n",
              "|       Rajasthan|Others (Please Sp...|         239|\n",
              "|    Chhattisgarh|Others (Please Sp...|         238|\n",
              "|           Bihar|Others (Please Sp...|         238|\n",
              "|         Haryana|Others (Please Sp...|         238|\n",
              "|          Kerala|Others (Please Sp...|         236|\n",
              "|   Uttar Pradesh|Others (Please Sp...|         235|\n",
              "|           Assam|Others (Please Sp...|         234|\n",
              "|         Gujarat|Others (Please Sp...|         234|\n",
              "|      Tamil Nadu|Others (Please Sp...|         234|\n",
              "|       Jharkhand|Others (Please Sp...|         233|\n",
              "|         Tripura|Others (Please Sp...|         230|\n",
              "|      Delhi (Ut)|Others (Please Sp...|         230|\n",
              "|     West Bengal|Others (Please Sp...|         228|\n",
              "|          Punjab|Others (Please Sp...|         227|\n",
              "|Himachal Pradesh|Others (Please Sp...|         222|\n",
              "+----------------+--------------------+------------+\n",
              "only showing top 20 rows"
            ]
          },
          "metadata": {},
          "execution_count": 103
        }
      ]
    },
    {
      "cell_type": "markdown",
      "source": [
        "# **8)suicides count cause wise(causes)**\n"
      ],
      "metadata": {
        "id": "Y35L4LyoSPZg"
      }
    },
    {
      "cell_type": "code",
      "source": [
        "spark.sql(\"select type,count(total) as suicide from suicide group by type\")"
      ],
      "metadata": {
        "colab": {
          "base_uri": "https://localhost:8080/",
          "height": 557
        },
        "id": "Ylafs0u9Uu0p",
        "outputId": "bb9eac17-e0b3-4ead-a5c9-52af86f58c3d"
      },
      "execution_count": 104,
      "outputs": [
        {
          "output_type": "execute_result",
          "data": {
            "text/html": [
              "<table border='1'>\n",
              "<tr><th>type</th><th>suicide</th></tr>\n",
              "<tr><td>Fall in Social Re...</td><td>4200</td></tr>\n",
              "<tr><td>By touching elect...</td><td>4200</td></tr>\n",
              "<tr><td>Never Married</td><td>912</td></tr>\n",
              "<tr><td>Property Dispute</td><td>4200</td></tr>\n",
              "<tr><td>No Education</td><td>912</td></tr>\n",
              "<tr><td>By coming under r...</td><td>4200</td></tr>\n",
              "<tr><td>By Overdose of sl...</td><td>4200</td></tr>\n",
              "<tr><td>Farming/Agricultu...</td><td>4200</td></tr>\n",
              "<tr><td>Student</td><td>4200</td></tr>\n",
              "<tr><td>Family Problems</td><td>4200</td></tr>\n",
              "<tr><td>Other Causes (Ple...</td><td>4200</td></tr>\n",
              "<tr><td>Divorce</td><td>4200</td></tr>\n",
              "<tr><td>Illegitimate Preg...</td><td>4200</td></tr>\n",
              "<tr><td>By Fire-Arms</td><td>4200</td></tr>\n",
              "<tr><td>Others (Please Sp...</td><td>7263</td></tr>\n",
              "<tr><td>Middle</td><td>912</td></tr>\n",
              "<tr><td>By Consuming Othe...</td><td>4200</td></tr>\n",
              "<tr><td>By Jumping from (...</td><td>4200</td></tr>\n",
              "<tr><td>Post Graduate and...</td><td>912</td></tr>\n",
              "<tr><td>Failure in Examin...</td><td>4200</td></tr>\n",
              "</table>\n",
              "only showing top 20 rows\n"
            ],
            "text/plain": [
              "+--------------------+-------+\n",
              "|                type|suicide|\n",
              "+--------------------+-------+\n",
              "|Fall in Social Re...|   4200|\n",
              "|By touching elect...|   4200|\n",
              "|       Never Married|    912|\n",
              "|    Property Dispute|   4200|\n",
              "|        No Education|    912|\n",
              "|By coming under r...|   4200|\n",
              "|By Overdose of sl...|   4200|\n",
              "|Farming/Agricultu...|   4200|\n",
              "|             Student|   4200|\n",
              "|     Family Problems|   4200|\n",
              "|Other Causes (Ple...|   4200|\n",
              "|             Divorce|   4200|\n",
              "|Illegitimate Preg...|   4200|\n",
              "|        By Fire-Arms|   4200|\n",
              "|Others (Please Sp...|   7263|\n",
              "|              Middle|    912|\n",
              "|By Consuming Othe...|   4200|\n",
              "|By Jumping from (...|   4200|\n",
              "|Post Graduate and...|    912|\n",
              "|Failure in Examin...|   4200|\n",
              "+--------------------+-------+\n",
              "only showing top 20 rows"
            ]
          },
          "metadata": {},
          "execution_count": 104
        }
      ]
    },
    {
      "cell_type": "markdown",
      "source": [
        "# **9) least cause for suicide**\n"
      ],
      "metadata": {
        "id": "0qlPs8rySQSA"
      }
    },
    {
      "cell_type": "code",
      "source": [
        "spark.sql(\"select Type, count(Total) from suicide group by Type order by count(Total) asc\")"
      ],
      "metadata": {
        "colab": {
          "base_uri": "https://localhost:8080/",
          "height": 557
        },
        "id": "k0WIguQNSXcL",
        "outputId": "e093cd67-cddf-4dae-a68a-d90ac21131aa"
      },
      "execution_count": 105,
      "outputs": [
        {
          "output_type": "execute_result",
          "data": {
            "text/html": [
              "<table border='1'>\n",
              "<tr><th>Type</th><th>count(Total)</th></tr>\n",
              "<tr><td>Not having Childr...</td><td>350</td></tr>\n",
              "<tr><td>Bankruptcy or Sud...</td><td>350</td></tr>\n",
              "<tr><td>By Other means</td><td>350</td></tr>\n",
              "<tr><td>Diploma</td><td>912</td></tr>\n",
              "<tr><td>Seperated</td><td>912</td></tr>\n",
              "<tr><td>Matriculate/Secon...</td><td>912</td></tr>\n",
              "<tr><td>Widowed/Widower</td><td>912</td></tr>\n",
              "<tr><td>Hr. Secondary/Int...</td><td>912</td></tr>\n",
              "<tr><td>No Education</td><td>912</td></tr>\n",
              "<tr><td>Never Married</td><td>912</td></tr>\n",
              "<tr><td>Graduate</td><td>912</td></tr>\n",
              "<tr><td>Primary</td><td>912</td></tr>\n",
              "<tr><td>Middle</td><td>912</td></tr>\n",
              "<tr><td>Married</td><td>912</td></tr>\n",
              "<tr><td>Post Graduate and...</td><td>912</td></tr>\n",
              "<tr><td>Divorcee</td><td>912</td></tr>\n",
              "<tr><td>By Other means (p...</td><td>3850</td></tr>\n",
              "<tr><td>Bankruptcy or Sud...</td><td>3850</td></tr>\n",
              "<tr><td>Not having Childr...</td><td>3850</td></tr>\n",
              "<tr><td>By Fire-Arms</td><td>4200</td></tr>\n",
              "</table>\n",
              "only showing top 20 rows\n"
            ],
            "text/plain": [
              "+--------------------+------------+\n",
              "|                Type|count(Total)|\n",
              "+--------------------+------------+\n",
              "|      By Other means|         350|\n",
              "|Not having Childr...|         350|\n",
              "|Bankruptcy or Sud...|         350|\n",
              "|Hr. Secondary/Int...|         912|\n",
              "|            Graduate|         912|\n",
              "|Matriculate/Secon...|         912|\n",
              "|     Widowed/Widower|         912|\n",
              "|             Married|         912|\n",
              "|             Primary|         912|\n",
              "|           Seperated|         912|\n",
              "|             Diploma|         912|\n",
              "|       Never Married|         912|\n",
              "|              Middle|         912|\n",
              "|Post Graduate and...|         912|\n",
              "|        No Education|         912|\n",
              "|            Divorcee|         912|\n",
              "|Bankruptcy or Sud...|        3850|\n",
              "|By Other means (p...|        3850|\n",
              "|Not having Childr...|        3850|\n",
              "|        By Fire-Arms|        4200|\n",
              "+--------------------+------------+\n",
              "only showing top 20 rows"
            ]
          },
          "metadata": {},
          "execution_count": 105
        }
      ]
    },
    {
      "cell_type": "markdown",
      "source": [
        "# **10)List out various Categories of suicidal causes**"
      ],
      "metadata": {
        "id": "ddVVQUXWSfKS"
      }
    },
    {
      "cell_type": "code",
      "source": [
        "spark.sql(\"select type_code,type from suicide group by type,type_code order by type_code\")"
      ],
      "metadata": {
        "colab": {
          "base_uri": "https://localhost:8080/",
          "height": 557
        },
        "id": "an0WytbnVjrd",
        "outputId": "37425b7e-3fbd-4e50-de15-558a470c9cf4"
      },
      "execution_count": 106,
      "outputs": [
        {
          "output_type": "execute_result",
          "data": {
            "text/html": [
              "<table border='1'>\n",
              "<tr><th>type_code</th><th>type</th></tr>\n",
              "<tr><td>Causes</td><td>Divorce</td></tr>\n",
              "<tr><td>Causes</td><td>Illegitimate Preg...</td></tr>\n",
              "<tr><td>Causes</td><td>Causes Not known</td></tr>\n",
              "<tr><td>Causes</td><td>Professional/Care...</td></tr>\n",
              "<tr><td>Causes</td><td>Fall in Social Re...</td></tr>\n",
              "<tr><td>Causes</td><td>Cancer</td></tr>\n",
              "<tr><td>Causes</td><td>Ideological Cause...</td></tr>\n",
              "<tr><td>Causes</td><td>Poverty</td></tr>\n",
              "<tr><td>Causes</td><td>Physical Abuse (R...</td></tr>\n",
              "<tr><td>Causes</td><td>Unemployment</td></tr>\n",
              "<tr><td>Causes</td><td>Property Dispute</td></tr>\n",
              "<tr><td>Causes</td><td>Dowry Dispute</td></tr>\n",
              "<tr><td>Causes</td><td>Bankruptcy or Sud...</td></tr>\n",
              "<tr><td>Causes</td><td>Cancellation/Non-...</td></tr>\n",
              "<tr><td>Causes</td><td>Suspected/Illicit...</td></tr>\n",
              "<tr><td>Causes</td><td>Not having Childr...</td></tr>\n",
              "<tr><td>Causes</td><td>Death of Dear Person</td></tr>\n",
              "<tr><td>Causes</td><td>Love Affairs</td></tr>\n",
              "<tr><td>Causes</td><td>Failure in Examin...</td></tr>\n",
              "<tr><td>Causes</td><td>Insanity/Mental I...</td></tr>\n",
              "</table>\n",
              "only showing top 20 rows\n"
            ],
            "text/plain": [
              "+---------+--------------------+\n",
              "|type_code|                type|\n",
              "+---------+--------------------+\n",
              "|   Causes|             Divorce|\n",
              "|   Causes|    Causes Not known|\n",
              "|   Causes|Professional/Care...|\n",
              "|   Causes|        Unemployment|\n",
              "|   Causes|Illegitimate Preg...|\n",
              "|   Causes|Failure in Examin...|\n",
              "|   Causes|        Love Affairs|\n",
              "|   Causes|Ideological Cause...|\n",
              "|   Causes|Physical Abuse (R...|\n",
              "|   Causes|Fall in Social Re...|\n",
              "|   Causes|              Cancer|\n",
              "|   Causes|       Dowry Dispute|\n",
              "|   Causes|Suspected/Illicit...|\n",
              "|   Causes|Bankruptcy or Sud...|\n",
              "|   Causes|    Property Dispute|\n",
              "|   Causes|Cancellation/Non-...|\n",
              "|   Causes|Not having Childr...|\n",
              "|   Causes|Insanity/Mental I...|\n",
              "|   Causes|             Poverty|\n",
              "|   Causes|Death of Dear Person|\n",
              "+---------+--------------------+\n",
              "only showing top 20 rows"
            ]
          },
          "metadata": {},
          "execution_count": 106
        }
      ]
    }
  ]
}